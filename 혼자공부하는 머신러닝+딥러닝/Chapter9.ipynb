{
 "cells": [
  {
   "cell_type": "markdown",
   "metadata": {},
   "source": [
    "---\n",
    "\n",
    "## 2021-02-28\n",
    "\n",
    "---\n",
    "\n",
    "\n",
    "# 09-1 순차 데이터와 순차 신경망\n",
    "\n",
    "- 순차 데이터, 순차 신경망, 셀, 은닉 상태\n",
    "- 순차 데이터의 특징을 알고 순환 신경망의 개념 학습\n",
    "\n",
    "\n",
    "## 순차 데이터\n",
    "\n",
    "- 텍스트나 시계열 데이터와 같이 순서에 의미가 있는 데이터\n",
    "- 순차 데이터를 다룰 때는 이전에 입력한 데이터를 기억하는 기능이 필요\n",
    "- 피드포워드 신경망: 입력 데이터의 흐름이 앞으로만 전달되는 신경망\n",
    "\n",
    "\n",
    "## 순환 신경망\n",
    "\n",
    "- 완전 연결 신경망에 이전 데이터의 처리 흐름을 순환하는 고리 하나를 추가하면 됨\n",
    "- 뉴런의 출력이 다시 자기 자신으로 전달\n",
    "- 타임스텝: 하나씩 기억하면서 결과 도출\n",
    "- 셀의 출력을 은닉 상태라 부름\n",
    "- 은닉층의 활성화 함수로는 tanh 함수를 많이 사용 (-1 ~ 1 의 범위를 가짐)\n",
    "- 이전 타임스텝의 은닉 상태에 곱해지는 가중치 하나 더 존재\n",
    "- 모든 타임스텝에서 사용되는 가중치는 하나!!\n",
    "- 맨 처음 샘플을 입력할 때는 이전 타임스텝이 없음\n",
    "\n",
    "\n",
    "## 셀의 가중치와 입출력\n",
    "\n",
    "- 순환층은 일반적으로 샘플마다 2개의 차원을 가짐\n",
    "- 마지막 타임스텝의 은닉 상태만 출력으로 내보냄\n",
    "- 마치 입력된 시퀀스 길이를 모두 읽어서 정보를 마지막 은닉 상태에 압축하여 전달하는 것처럼 볼 수 있음\n",
    "- 순환층을 여러 개 쌓았을 때는 중간에 있는 건 모든 타임스텝의 은닉 상태를 출력\n",
    "\n",
    "\n",
    "## 순환 신경망으로 순환 데이터 처리\n",
    "\n",
    "- 은닉층의 출력을 다음 층으로만 보내지 않고 다음 순서에 다시 재사용하는 순환 구조\n",
    "- 마지막 타임스텝의 출력만 다음 층으로 전달\n",
    "\n",
    "\n",
    "# 09-2 순환 신경망으로 IMDB 리뷰 분류하기\n",
    "\n",
    "- 말뭉치, 토큰, 원-핫 인코딩, 단어 임베딩\n",
    "- 텐서플로를 사용해 순환 신경망을 만들어 영화 리뷰 데이터셋에 적용해서 리뷰를 긍정과 부정으로 분류\n",
    "\n",
    "\n",
    "## IMDB 리뷰 데이터셋\n",
    "\n",
    "- 자연어 처리(natural language processing): 컴퓨터를 사용해 인간의 언어를 처리하는 분야 (음성 인식, 기계 번역, 감성 분석)\n",
    "- 단어를 하나의 정수에 매핑해서 사용, 매핑되는 정수는 단어의 의미나 크기와 관련 없음\n",
    "- 토큰: 문장을 모두 소문자로 바꾸고 구둣점을 삭제한 다음 공백을 기준으로 분류\n",
    "- 1개의 토큰이 하나의 타임스탬프에 해당\n",
    "- 특정 정수는 특정한 용도로 예약되어 있음\n",
    "```\n",
    "    - 0: 패딩\n",
    "    - 1: 문장의 시작\n",
    "    - 2: 어휘 사전에 없는 토큰\n",
    "```"
   ]
  },
  {
   "cell_type": "code",
   "execution_count": 1,
   "metadata": {},
   "outputs": [
    {
     "name": "stdout",
     "output_type": "stream",
     "text": [
      "Downloading data from https://storage.googleapis.com/tensorflow/tf-keras-datasets/imdb.npz\n",
      "17465344/17464789 [==============================] - 2s 0us/step\n"
     ]
    },
    {
     "name": "stderr",
     "output_type": "stream",
     "text": [
      "<__array_function__ internals>:5: VisibleDeprecationWarning: Creating an ndarray from ragged nested sequences (which is a list-or-tuple of lists-or-tuples-or ndarrays with different lengths or shapes) is deprecated. If you meant to do this, you must specify 'dtype=object' when creating the ndarray\n",
      "C:\\Users\\bok_suh\\anaconda3\\lib\\site-packages\\tensorflow\\python\\keras\\datasets\\imdb.py:159: VisibleDeprecationWarning: Creating an ndarray from ragged nested sequences (which is a list-or-tuple of lists-or-tuples-or ndarrays with different lengths or shapes) is deprecated. If you meant to do this, you must specify 'dtype=object' when creating the ndarray\n",
      "  x_train, y_train = np.array(xs[:idx]), np.array(labels[:idx])\n",
      "C:\\Users\\bok_suh\\anaconda3\\lib\\site-packages\\tensorflow\\python\\keras\\datasets\\imdb.py:160: VisibleDeprecationWarning: Creating an ndarray from ragged nested sequences (which is a list-or-tuple of lists-or-tuples-or ndarrays with different lengths or shapes) is deprecated. If you meant to do this, you must specify 'dtype=object' when creating the ndarray\n",
      "  x_test, y_test = np.array(xs[idx:]), np.array(labels[idx:])\n"
     ]
    }
   ],
   "source": [
    "from tensorflow.keras.datasets import imdb\n",
    "(train_input, train_target), (test_input, test_target) = imdb.load_data(num_words=500)"
   ]
  },
  {
   "cell_type": "code",
   "execution_count": 2,
   "metadata": {},
   "outputs": [
    {
     "name": "stdout",
     "output_type": "stream",
     "text": [
      "(25000,) (25000,)\n"
     ]
    }
   ],
   "source": [
    "print(train_input.shape, test_input.shape)"
   ]
  },
  {
   "cell_type": "code",
   "execution_count": 3,
   "metadata": {},
   "outputs": [
    {
     "name": "stdout",
     "output_type": "stream",
     "text": [
      "218\n"
     ]
    }
   ],
   "source": [
    "print(len(train_input[0]))"
   ]
  },
  {
   "cell_type": "code",
   "execution_count": 4,
   "metadata": {},
   "outputs": [
    {
     "name": "stdout",
     "output_type": "stream",
     "text": [
      "189\n"
     ]
    }
   ],
   "source": [
    "print(len(train_input[1]))"
   ]
  },
  {
   "cell_type": "code",
   "execution_count": 5,
   "metadata": {},
   "outputs": [
    {
     "name": "stdout",
     "output_type": "stream",
     "text": [
      "[1, 14, 22, 16, 43, 2, 2, 2, 2, 65, 458, 2, 66, 2, 4, 173, 36, 256, 5, 25, 100, 43, 2, 112, 50, 2, 2, 9, 35, 480, 284, 5, 150, 4, 172, 112, 167, 2, 336, 385, 39, 4, 172, 2, 2, 17, 2, 38, 13, 447, 4, 192, 50, 16, 6, 147, 2, 19, 14, 22, 4, 2, 2, 469, 4, 22, 71, 87, 12, 16, 43, 2, 38, 76, 15, 13, 2, 4, 22, 17, 2, 17, 12, 16, 2, 18, 2, 5, 62, 386, 12, 8, 316, 8, 106, 5, 4, 2, 2, 16, 480, 66, 2, 33, 4, 130, 12, 16, 38, 2, 5, 25, 124, 51, 36, 135, 48, 25, 2, 33, 6, 22, 12, 215, 28, 77, 52, 5, 14, 407, 16, 82, 2, 8, 4, 107, 117, 2, 15, 256, 4, 2, 7, 2, 5, 2, 36, 71, 43, 2, 476, 26, 400, 317, 46, 7, 4, 2, 2, 13, 104, 88, 4, 381, 15, 297, 98, 32, 2, 56, 26, 141, 6, 194, 2, 18, 4, 226, 22, 21, 134, 476, 26, 480, 5, 144, 30, 2, 18, 51, 36, 28, 224, 92, 25, 104, 4, 226, 65, 16, 38, 2, 88, 12, 16, 283, 5, 16, 2, 113, 103, 32, 15, 16, 2, 19, 178, 32]\n"
     ]
    }
   ],
   "source": [
    "print(train_input[0])"
   ]
  },
  {
   "cell_type": "code",
   "execution_count": 6,
   "metadata": {},
   "outputs": [
    {
     "name": "stdout",
     "output_type": "stream",
     "text": [
      "[1 0 0 1 0 0 1 0 1 0 1 0 0 0 0 0 1 1 0 1]\n"
     ]
    }
   ],
   "source": [
    "print(train_target[:20])"
   ]
  },
  {
   "cell_type": "code",
   "execution_count": 7,
   "metadata": {},
   "outputs": [],
   "source": [
    "from sklearn.model_selection import train_test_split\n",
    "train_input, val_input, train_target, val_target = train_test_split(train_input, train_target, \n",
    "                                                                    test_size=0.2, random_state=42)"
   ]
  },
  {
   "cell_type": "code",
   "execution_count": 8,
   "metadata": {},
   "outputs": [],
   "source": [
    "import numpy as np\n",
    "lengths = np.array([len(x) for x in train_input])"
   ]
  },
  {
   "cell_type": "code",
   "execution_count": 9,
   "metadata": {},
   "outputs": [
    {
     "name": "stdout",
     "output_type": "stream",
     "text": [
      "239.00925 178.0\n"
     ]
    }
   ],
   "source": [
    "print(np.mean(lengths), np.median(lengths))"
   ]
  },
  {
   "cell_type": "code",
   "execution_count": 11,
   "metadata": {},
   "outputs": [
    {
     "data": {
      "image/png": "[encoded data removed]",
      "text/plain": [
       "<Figure size 432x288 with 1 Axes>"
      ]
     },
     "metadata": {
      "needs_background": "light"
     },
     "output_type": "display_data"
    }
   ],
   "source": [
    "import matplotlib.pyplot as plt\n",
    "plt.hist(lengths)\n",
    "plt.xlabel('length')\n",
    "plt.ylabel('frequency')\n",
    "plt.show()"
   ]
  },
  {
   "cell_type": "code",
   "execution_count": 12,
   "metadata": {},
   "outputs": [],
   "source": [
    "from tensorflow.keras.preprocessing.sequence import pad_sequences\n",
    "train_seq = pad_sequences(train_input, maxlen=100)"
   ]
  },
  {
   "cell_type": "code",
   "execution_count": 13,
   "metadata": {},
   "outputs": [
    {
     "name": "stdout",
     "output_type": "stream",
     "text": [
      "(20000, 100)\n"
     ]
    }
   ],
   "source": [
    "print(train_seq.shape)"
   ]
  },
  {
   "cell_type": "code",
   "execution_count": 16,
   "metadata": {},
   "outputs": [
    {
     "name": "stdout",
     "output_type": "stream",
     "text": [
      "[ 10   4  20   9   2 364 352   5  45   6   2   2  33 269   8   2 142   2\n",
      "   5   2  17  73  17 204   5   2  19  55   2   2  92  66 104  14  20  93\n",
      "  76   2 151  33   4  58  12 188   2 151  12 215  69 224 142  73 237   6\n",
      "   2   7   2   2 188   2 103  14  31  10  10 451   7   2   5   2  80  91\n",
      "   2  30   2  34  14  20 151  50  26 131  49   2  84  46  50  37  80  79\n",
      "   6   2  46   7  14  20  10  10 470 158]\n"
     ]
    }
   ],
   "source": [
    "print(train_seq[0])"
   ]
  },
  {
   "cell_type": "code",
   "execution_count": 17,
   "metadata": {},
   "outputs": [
    {
     "name": "stdout",
     "output_type": "stream",
     "text": [
      "[6, 2, 46, 7, 14, 20, 10, 10, 470, 158]\n"
     ]
    }
   ],
   "source": [
    "print(train_input[0][-10:])"
   ]
  },
  {
   "cell_type": "markdown",
   "metadata": {},
   "source": [
    "- pad_sequences() 함수는 기본으로 maxlen보다 긴 시퀀스의 앞부분을 자름\n",
    "- 뒷부분을 자르고 싶을 땐 truncating = 'post'로 바꾸면 됨"
   ]
  },
  {
   "cell_type": "code",
   "execution_count": 18,
   "metadata": {},
   "outputs": [
    {
     "name": "stdout",
     "output_type": "stream",
     "text": [
      "[  0   0   0   0   1   2 195  19  49   2   2 190   4   2 352   2 183  10\n",
      "  10  13  82  79   4   2  36  71 269   8   2  25  19  49   7   4   2   2\n",
      "   2   2   2  10  10  48  25  40   2  11   2   2  40   2   2   5   4   2\n",
      "   2  95  14 238  56 129   2  10  10  21   2  94 364 352   2   2  11 190\n",
      "  24 484   2   7  94 205 405  10  10  87   2  34  49   2   7   2   2   2\n",
      "   2   2 290   2  46  48  64  18   4   2]\n"
     ]
    }
   ],
   "source": [
    "print(train_seq[5])"
   ]
  },
  {
   "cell_type": "code",
   "execution_count": 19,
   "metadata": {},
   "outputs": [],
   "source": [
    "val_seq = pad_sequences(val_input, maxlen=100)"
   ]
  },
  {
   "cell_type": "markdown",
   "metadata": {},
   "source": [
    "## 순환 신경망 만들기\n",
    "\n"
   ]
  },
  {
   "cell_type": "code",
   "execution_count": 20,
   "metadata": {},
   "outputs": [],
   "source": [
    "from tensorflow import keras\n",
    "model = keras.Sequential()\n",
    "model.add(keras.layers.SimpleRNN(8, input_shape=(100, 500)))\n",
    "model.add(keras.layers.Dense(1, activation='sigmoid'))"
   ]
  },
  {
   "cell_type": "code",
   "execution_count": 21,
   "metadata": {},
   "outputs": [],
   "source": [
    "train_oh = keras.utils.to_categorical(train_seq)"
   ]
  },
  {
   "cell_type": "code",
   "execution_count": 22,
   "metadata": {},
   "outputs": [
    {
     "name": "stdout",
     "output_type": "stream",
     "text": [
      "(20000, 100, 500)\n"
     ]
    }
   ],
   "source": [
    "print(train_oh.shape)"
   ]
  },
  {
   "cell_type": "code",
   "execution_count": 23,
   "metadata": {},
   "outputs": [
    {
     "name": "stdout",
     "output_type": "stream",
     "text": [
      "[0. 0. 0. 0. 0. 0. 0. 0. 0. 0. 1. 0.]\n"
     ]
    }
   ],
   "source": [
    "print(train_oh[0][0][:12])"
   ]
  },
  {
   "cell_type": "code",
   "execution_count": 24,
   "metadata": {},
   "outputs": [
    {
     "name": "stdout",
     "output_type": "stream",
     "text": [
      "1.0\n"
     ]
    }
   ],
   "source": [
    "print(np.sum(train_oh[0][0]))"
   ]
  },
  {
   "cell_type": "code",
   "execution_count": 25,
   "metadata": {},
   "outputs": [],
   "source": [
    "val_oh = keras.utils.to_categorical(val_seq)"
   ]
  },
  {
   "cell_type": "code",
   "execution_count": 26,
   "metadata": {},
   "outputs": [
    {
     "name": "stdout",
     "output_type": "stream",
     "text": [
      "Model: \"sequential\"\n",
      "_________________________________________________________________\n",
      "Layer (type)                 Output Shape              Param #   \n",
      "=================================================================\n",
      "simple_rnn (SimpleRNN)       (None, 8)                 4072      \n",
      "_________________________________________________________________\n",
      "dense (Dense)                (None, 1)                 9         \n",
      "=================================================================\n",
      "Total params: 4,081\n",
      "Trainable params: 4,081\n",
      "Non-trainable params: 0\n",
      "_________________________________________________________________\n"
     ]
    }
   ],
   "source": [
    "model.summary()"
   ]
  },
  {
   "cell_type": "markdown",
   "metadata": {},
   "source": [
    "## 순환 신경망 훈련하기"
   ]
  },
  {
   "cell_type": "code",
   "execution_count": 28,
   "metadata": {},
   "outputs": [
    {
     "name": "stdout",
     "output_type": "stream",
     "text": [
      "Epoch 1/100\n",
      "313/313 [==============================] - 6s 15ms/step - loss: 0.7007 - accuracy: 0.5192 - val_loss: 0.6801 - val_accuracy: 0.5660\n",
      "Epoch 2/100\n",
      "313/313 [==============================] - 5s 15ms/step - loss: 0.6719 - accuracy: 0.5839 - val_loss: 0.6370 - val_accuracy: 0.6388\n",
      "Epoch 3/100\n",
      "313/313 [==============================] - 5s 15ms/step - loss: 0.6283 - accuracy: 0.6594 - val_loss: 0.6066 - val_accuracy: 0.6856\n",
      "Epoch 4/100\n",
      "313/313 [==============================] - 5s 15ms/step - loss: 0.5980 - accuracy: 0.6952 - val_loss: 0.5870 - val_accuracy: 0.7050\n",
      "Epoch 5/100\n",
      "313/313 [==============================] - 5s 15ms/step - loss: 0.5772 - accuracy: 0.7211 - val_loss: 0.5703 - val_accuracy: 0.7276\n",
      "Epoch 6/100\n",
      "313/313 [==============================] - 5s 15ms/step - loss: 0.5575 - accuracy: 0.7403 - val_loss: 0.5519 - val_accuracy: 0.7382\n",
      "Epoch 7/100\n",
      "313/313 [==============================] - 5s 15ms/step - loss: 0.5421 - accuracy: 0.7539 - val_loss: 0.5463 - val_accuracy: 0.7414\n",
      "Epoch 8/100\n",
      "313/313 [==============================] - 5s 15ms/step - loss: 0.5315 - accuracy: 0.7593 - val_loss: 0.5295 - val_accuracy: 0.7562\n",
      "Epoch 9/100\n",
      "313/313 [==============================] - 5s 15ms/step - loss: 0.5196 - accuracy: 0.7658 - val_loss: 0.5210 - val_accuracy: 0.7608\n",
      "Epoch 10/100\n",
      "313/313 [==============================] - 5s 15ms/step - loss: 0.5100 - accuracy: 0.7733 - val_loss: 0.5130 - val_accuracy: 0.7674\n",
      "Epoch 11/100\n",
      "313/313 [==============================] - 5s 15ms/step - loss: 0.5060 - accuracy: 0.7745 - val_loss: 0.5097 - val_accuracy: 0.7602\n",
      "Epoch 12/100\n",
      "313/313 [==============================] - 5s 15ms/step - loss: 0.4933 - accuracy: 0.7827 - val_loss: 0.5017 - val_accuracy: 0.7674\n",
      "Epoch 13/100\n",
      "313/313 [==============================] - 5s 15ms/step - loss: 0.4869 - accuracy: 0.7858 - val_loss: 0.4948 - val_accuracy: 0.7764\n",
      "Epoch 14/100\n",
      "313/313 [==============================] - 5s 15ms/step - loss: 0.4842 - accuracy: 0.7871 - val_loss: 0.4904 - val_accuracy: 0.7812\n",
      "Epoch 15/100\n",
      "313/313 [==============================] - 5s 15ms/step - loss: 0.4752 - accuracy: 0.7940 - val_loss: 0.4876 - val_accuracy: 0.7774\n",
      "Epoch 16/100\n",
      "313/313 [==============================] - 5s 16ms/step - loss: 0.4658 - accuracy: 0.7996 - val_loss: 0.4859 - val_accuracy: 0.7700\n",
      "Epoch 17/100\n",
      "313/313 [==============================] - 5s 16ms/step - loss: 0.4655 - accuracy: 0.7982 - val_loss: 0.4838 - val_accuracy: 0.7784\n",
      "Epoch 18/100\n",
      "313/313 [==============================] - 5s 15ms/step - loss: 0.4604 - accuracy: 0.8011 - val_loss: 0.4767 - val_accuracy: 0.7788\n",
      "Epoch 19/100\n",
      "313/313 [==============================] - 5s 16ms/step - loss: 0.4563 - accuracy: 0.7989 - val_loss: 0.4768 - val_accuracy: 0.7750\n",
      "Epoch 20/100\n",
      "313/313 [==============================] - 5s 15ms/step - loss: 0.4514 - accuracy: 0.8042 - val_loss: 0.4702 - val_accuracy: 0.7818\n",
      "Epoch 21/100\n",
      "313/313 [==============================] - 5s 15ms/step - loss: 0.4447 - accuracy: 0.8063 - val_loss: 0.4696 - val_accuracy: 0.7848\n",
      "Epoch 22/100\n",
      "313/313 [==============================] - 5s 16ms/step - loss: 0.4393 - accuracy: 0.8110 - val_loss: 0.4748 - val_accuracy: 0.7824\n",
      "Epoch 23/100\n",
      "313/313 [==============================] - 5s 15ms/step - loss: 0.4379 - accuracy: 0.8088 - val_loss: 0.4634 - val_accuracy: 0.7862\n",
      "Epoch 24/100\n",
      "313/313 [==============================] - 5s 16ms/step - loss: 0.4413 - accuracy: 0.8057 - val_loss: 0.4631 - val_accuracy: 0.7840\n",
      "Epoch 25/100\n",
      "313/313 [==============================] - 5s 16ms/step - loss: 0.4365 - accuracy: 0.8086 - val_loss: 0.4682 - val_accuracy: 0.7830\n",
      "Epoch 26/100\n",
      "313/313 [==============================] - 5s 16ms/step - loss: 0.4349 - accuracy: 0.8089 - val_loss: 0.4595 - val_accuracy: 0.7836\n",
      "Epoch 27/100\n",
      "313/313 [==============================] - 5s 15ms/step - loss: 0.4299 - accuracy: 0.8108 - val_loss: 0.4580 - val_accuracy: 0.7874\n",
      "Epoch 28/100\n",
      "313/313 [==============================] - 5s 15ms/step - loss: 0.4281 - accuracy: 0.8122 - val_loss: 0.4574 - val_accuracy: 0.7872\n",
      "Epoch 29/100\n",
      "313/313 [==============================] - 5s 15ms/step - loss: 0.4227 - accuracy: 0.8184 - val_loss: 0.4622 - val_accuracy: 0.7818\n",
      "Epoch 30/100\n",
      "313/313 [==============================] - 5s 16ms/step - loss: 0.4259 - accuracy: 0.8137 - val_loss: 0.4571 - val_accuracy: 0.7860\n",
      "Epoch 31/100\n",
      "313/313 [==============================] - 5s 15ms/step - loss: 0.4194 - accuracy: 0.8186 - val_loss: 0.4591 - val_accuracy: 0.7892\n",
      "Epoch 32/100\n",
      "313/313 [==============================] - 5s 16ms/step - loss: 0.4223 - accuracy: 0.8182 - val_loss: 0.4541 - val_accuracy: 0.7910\n",
      "Epoch 33/100\n",
      "313/313 [==============================] - 5s 15ms/step - loss: 0.4221 - accuracy: 0.8172 - val_loss: 0.4565 - val_accuracy: 0.7900\n",
      "Epoch 34/100\n",
      "313/313 [==============================] - 5s 15ms/step - loss: 0.4222 - accuracy: 0.8163 - val_loss: 0.4531 - val_accuracy: 0.7890\n",
      "Epoch 35/100\n",
      "313/313 [==============================] - 5s 16ms/step - loss: 0.4097 - accuracy: 0.8224 - val_loss: 0.4557 - val_accuracy: 0.7872\n",
      "Epoch 36/100\n",
      "313/313 [==============================] - 5s 16ms/step - loss: 0.4101 - accuracy: 0.8209 - val_loss: 0.4564 - val_accuracy: 0.7908\n",
      "Epoch 37/100\n",
      "313/313 [==============================] - 5s 16ms/step - loss: 0.4107 - accuracy: 0.8186 - val_loss: 0.4546 - val_accuracy: 0.7912\n"
     ]
    }
   ],
   "source": [
    "rmsprop = keras.optimizers.RMSprop(learning_rate=1e-4)\n",
    "model.compile(optimizer=rmsprop, loss='binary_crossentropy',\n",
    "             metrics=['accuracy'])\n",
    "checkpoint_cb = keras.callbacks.ModelCheckpoint('best-simplernn-model.h5')\n",
    "early_stopping_cb = keras.callbacks.EarlyStopping(patience=3, restore_best_weights=True)\n",
    "history = model.fit(train_oh, train_target, epochs=100, batch_size=64,\n",
    "                   validation_data=(val_oh, val_target),\n",
    "                   callbacks=[checkpoint_cb, early_stopping_cb])"
   ]
  },
  {
   "cell_type": "code",
   "execution_count": 29,
   "metadata": {},
   "outputs": [
    {
     "data": {
      "image/png": "[encoded data removed]",
      "text/plain": [
       "<Figure size 432x288 with 1 Axes>"
      ]
     },
     "metadata": {
      "needs_background": "light"
     },
     "output_type": "display_data"
    }
   ],
   "source": [
    "plt.plot(history.history['loss'])\n",
    "plt.plot(history.history['val_loss'])\n",
    "plt.xlabel('epoch')\n",
    "plt.ylabel('loss')\n",
    "plt.legend(['train', 'val'])\n",
    "plt.show()"
   ]
  },
  {
   "cell_type": "markdown",
   "metadata": {},
   "source": [
    "## 단어 임베딩을 사용하기\n",
    "\n",
    "- 각 단어를 고정된 크기의 실수 벡터로 바꿔줌\n",
    "- 장점: 입력으로 정수 데이터를 받음 --> 메모리 효율적으로 사용 가능\n"
   ]
  },
  {
   "cell_type": "code",
   "execution_count": 31,
   "metadata": {},
   "outputs": [],
   "source": [
    "model2 = keras.Sequential()\n",
    "model2.add(keras.layers.Embedding(500, 16, input_length=100))\n",
    "model2.add(keras.layers.SimpleRNN(8))\n",
    "model2.add(keras.layers.Dense(1, activation='sigmoid'))"
   ]
  },
  {
   "cell_type": "code",
   "execution_count": 32,
   "metadata": {},
   "outputs": [
    {
     "name": "stdout",
     "output_type": "stream",
     "text": [
      "Model: \"sequential_1\"\n",
      "_________________________________________________________________\n",
      "Layer (type)                 Output Shape              Param #   \n",
      "=================================================================\n",
      "embedding (Embedding)        (None, 100, 16)           8000      \n",
      "_________________________________________________________________\n",
      "simple_rnn_1 (SimpleRNN)     (None, 8)                 200       \n",
      "_________________________________________________________________\n",
      "dense_1 (Dense)              (None, 1)                 9         \n",
      "=================================================================\n",
      "Total params: 8,209\n",
      "Trainable params: 8,209\n",
      "Non-trainable params: 0\n",
      "_________________________________________________________________\n"
     ]
    }
   ],
   "source": [
    "model2.summary()"
   ]
  },
  {
   "cell_type": "code",
   "execution_count": 34,
   "metadata": {},
   "outputs": [
    {
     "name": "stdout",
     "output_type": "stream",
     "text": [
      "Epoch 1/100\n",
      "313/313 [==============================] - 4s 10ms/step - loss: 0.6989 - accuracy: 0.5018 - val_loss: 0.6825 - val_accuracy: 0.5668\n",
      "Epoch 2/100\n",
      "313/313 [==============================] - 3s 10ms/step - loss: 0.6720 - accuracy: 0.6108 - val_loss: 0.6507 - val_accuracy: 0.6748\n",
      "Epoch 3/100\n",
      "313/313 [==============================] - 3s 11ms/step - loss: 0.6424 - accuracy: 0.6907 - val_loss: 0.6288 - val_accuracy: 0.7082\n",
      "Epoch 4/100\n",
      "313/313 [==============================] - 3s 10ms/step - loss: 0.6204 - accuracy: 0.7223 - val_loss: 0.6131 - val_accuracy: 0.7230\n",
      "Epoch 5/100\n",
      "313/313 [==============================] - 3s 10ms/step - loss: 0.5986 - accuracy: 0.7433 - val_loss: 0.5907 - val_accuracy: 0.7458\n",
      "Epoch 6/100\n",
      "313/313 [==============================] - 3s 10ms/step - loss: 0.5796 - accuracy: 0.7564 - val_loss: 0.5746 - val_accuracy: 0.7516\n",
      "Epoch 7/100\n",
      "313/313 [==============================] - 3s 10ms/step - loss: 0.5630 - accuracy: 0.7633 - val_loss: 0.5649 - val_accuracy: 0.7506\n",
      "Epoch 8/100\n",
      "313/313 [==============================] - 3s 10ms/step - loss: 0.5436 - accuracy: 0.7785 - val_loss: 0.5470 - val_accuracy: 0.7704\n",
      "Epoch 9/100\n",
      "313/313 [==============================] - 3s 10ms/step - loss: 0.5310 - accuracy: 0.7810 - val_loss: 0.5344 - val_accuracy: 0.7730\n",
      "Epoch 10/100\n",
      "313/313 [==============================] - 3s 10ms/step - loss: 0.5169 - accuracy: 0.7873 - val_loss: 0.5270 - val_accuracy: 0.7656\n",
      "Epoch 11/100\n",
      "313/313 [==============================] - 3s 10ms/step - loss: 0.5040 - accuracy: 0.7930 - val_loss: 0.5123 - val_accuracy: 0.7734\n",
      "Epoch 12/100\n",
      "313/313 [==============================] - 3s 10ms/step - loss: 0.4907 - accuracy: 0.7977 - val_loss: 0.5074 - val_accuracy: 0.7756\n",
      "Epoch 13/100\n",
      "313/313 [==============================] - 3s 10ms/step - loss: 0.4730 - accuracy: 0.8041 - val_loss: 0.4980 - val_accuracy: 0.7810\n",
      "Epoch 14/100\n",
      "313/313 [==============================] - 3s 10ms/step - loss: 0.4694 - accuracy: 0.8025 - val_loss: 0.4910 - val_accuracy: 0.7796\n",
      "Epoch 15/100\n",
      "313/313 [==============================] - 3s 10ms/step - loss: 0.4630 - accuracy: 0.8046 - val_loss: 0.4827 - val_accuracy: 0.7818\n",
      "Epoch 16/100\n",
      "313/313 [==============================] - 3s 10ms/step - loss: 0.4471 - accuracy: 0.8140 - val_loss: 0.4766 - val_accuracy: 0.7858\n",
      "Epoch 17/100\n",
      "313/313 [==============================] - 3s 10ms/step - loss: 0.4432 - accuracy: 0.8145 - val_loss: 0.4774 - val_accuracy: 0.7844\n",
      "Epoch 18/100\n",
      "313/313 [==============================] - 3s 10ms/step - loss: 0.4358 - accuracy: 0.8155 - val_loss: 0.4694 - val_accuracy: 0.7862\n",
      "Epoch 19/100\n",
      "313/313 [==============================] - 3s 10ms/step - loss: 0.4367 - accuracy: 0.8122 - val_loss: 0.4709 - val_accuracy: 0.7858\n",
      "Epoch 20/100\n",
      "313/313 [==============================] - 3s 11ms/step - loss: 0.4270 - accuracy: 0.8176 - val_loss: 0.4652 - val_accuracy: 0.7896\n",
      "Epoch 21/100\n",
      "313/313 [==============================] - 3s 11ms/step - loss: 0.4240 - accuracy: 0.8168 - val_loss: 0.4628 - val_accuracy: 0.7892\n",
      "Epoch 22/100\n",
      "313/313 [==============================] - 3s 11ms/step - loss: 0.4162 - accuracy: 0.8234 - val_loss: 0.4634 - val_accuracy: 0.7904\n",
      "Epoch 23/100\n",
      "313/313 [==============================] - 3s 10ms/step - loss: 0.4147 - accuracy: 0.8178 - val_loss: 0.4680 - val_accuracy: 0.7836\n",
      "Epoch 24/100\n",
      "313/313 [==============================] - 3s 10ms/step - loss: 0.4185 - accuracy: 0.8215 - val_loss: 0.4605 - val_accuracy: 0.7902\n",
      "Epoch 25/100\n",
      "313/313 [==============================] - 3s 10ms/step - loss: 0.4037 - accuracy: 0.8284 - val_loss: 0.4630 - val_accuracy: 0.7836\n",
      "Epoch 26/100\n",
      "313/313 [==============================] - 3s 9ms/step - loss: 0.4063 - accuracy: 0.8257 - val_loss: 0.4642 - val_accuracy: 0.7888\n",
      "Epoch 27/100\n",
      "313/313 [==============================] - 3s 9ms/step - loss: 0.4101 - accuracy: 0.8217 - val_loss: 0.4605 - val_accuracy: 0.7874\n"
     ]
    }
   ],
   "source": [
    "rmsprop = keras.optimizers.RMSprop(learning_rate=1e-4)\n",
    "model2.compile(optimizer=rmsprop, loss='binary_crossentropy',\n",
    "              metrics=['accuracy'])\n",
    "checkpoint_cb = keras.callbacks.ModelCheckpoint('best-embedding-model.h5')\n",
    "early_stopping_cb = keras.callbacks.EarlyStopping(patience=3,\n",
    "                                                 restore_best_weights=True)\n",
    "history = model2.fit(train_seq, train_target, epochs=100, batch_size=64,\n",
    "                    validation_data=(val_seq, val_target),\n",
    "                    callbacks=[checkpoint_cb, early_stopping_cb])"
   ]
  },
  {
   "cell_type": "code",
   "execution_count": 35,
   "metadata": {},
   "outputs": [
    {
     "data": {
      "image/png": "[encoded data removed]",
      "text/plain": [
       "<Figure size 432x288 with 1 Axes>"
      ]
     },
     "metadata": {
      "needs_background": "light"
     },
     "output_type": "display_data"
    }
   ],
   "source": [
    "plt.plot(history.history['loss'])\n",
    "plt.plot(history.history['val_loss'])\n",
    "plt.xlabel('epoch')\n",
    "plt.ylabel('loss')\n",
    "plt.legend(['train', 'val'])\n",
    "plt.show()"
   ]
  },
  {
   "cell_type": "markdown",
   "metadata": {},
   "source": [
    "# 09-3 LSTM과 GRU 셀\n",
    "\n",
    "- LSTM, 셀 상태, GRU\n",
    "- 순환 신경망에서의 핵심 기술인 LSTM과 GRU 셀을 사용한 모델 만들기\n",
    "\n",
    "\n",
    "## LSTM 구조\n",
    "\n",
    "- Long Short-Term Memory\n",
    "- 단기 기억을 오래 기억하기 위해 고안\n",
    "- 셀 상태: 다음 층으로 전달되지 않고 LSTM 셀에서 순환만 되는 값\n",
    "- 마치 작은 셀을 여러 개 포함하고 있는 큰 셀\n",
    "- 입력과 은닉 상태에 곱해지는 가중치가 다르다!!\n",
    "- 여기에 2개의 작은 셀이 더 추가되어 셀 상태를 만드는데 기여\n",
    "- **총 4개의 셀 존재**\n",
    "- 삭제 게이트: 셀 상태에 있는 정보를 제거하는 역할\n",
    "- 입력 게이트: 새로운 정보를 셀 상태에 추가\n",
    "- 출력 게이트: 셀 상태가 다음 은닉 상태로 출력\n",
    "\n",
    "\n",
    "## LSTM 신경망 훈련하기"
   ]
  },
  {
   "cell_type": "code",
   "execution_count": 36,
   "metadata": {},
   "outputs": [
    {
     "name": "stderr",
     "output_type": "stream",
     "text": [
      "<__array_function__ internals>:5: VisibleDeprecationWarning: Creating an ndarray from ragged nested sequences (which is a list-or-tuple of lists-or-tuples-or ndarrays with different lengths or shapes) is deprecated. If you meant to do this, you must specify 'dtype=object' when creating the ndarray\n",
      "C:\\Users\\bok_suh\\anaconda3\\lib\\site-packages\\tensorflow\\python\\keras\\datasets\\imdb.py:159: VisibleDeprecationWarning: Creating an ndarray from ragged nested sequences (which is a list-or-tuple of lists-or-tuples-or ndarrays with different lengths or shapes) is deprecated. If you meant to do this, you must specify 'dtype=object' when creating the ndarray\n",
      "  x_train, y_train = np.array(xs[:idx]), np.array(labels[:idx])\n",
      "C:\\Users\\bok_suh\\anaconda3\\lib\\site-packages\\tensorflow\\python\\keras\\datasets\\imdb.py:160: VisibleDeprecationWarning: Creating an ndarray from ragged nested sequences (which is a list-or-tuple of lists-or-tuples-or ndarrays with different lengths or shapes) is deprecated. If you meant to do this, you must specify 'dtype=object' when creating the ndarray\n",
      "  x_test, y_test = np.array(xs[idx:]), np.array(labels[idx:])\n"
     ]
    }
   ],
   "source": [
    "from tensorflow.keras.datasets import imdb\n",
    "from sklearn.model_selection import train_test_split\n",
    "(train_input, train_target), (test_input, test_target) = imdb.load_data(num_words=500)\n",
    "train_input, val_input, train_target, val_target = train_test_split(train_input, \n",
    "                                                                   train_target,\n",
    "                                                                   test_size=0.2,\n",
    "                                                                   random_state=42)"
   ]
  },
  {
   "cell_type": "code",
   "execution_count": 38,
   "metadata": {},
   "outputs": [],
   "source": [
    "from tensorflow.keras.preprocessing.sequence import pad_sequences\n",
    "train_seq = pad_sequences(train_input, maxlen=100)\n",
    "val_seq = pad_sequences(val_input, maxlen=100)"
   ]
  },
  {
   "cell_type": "code",
   "execution_count": 39,
   "metadata": {},
   "outputs": [],
   "source": [
    "from tensorflow import keras\n",
    "model = keras.Sequential()\n",
    "model.add(keras.layers.Embedding(500, 16, input_length=100))\n",
    "model.add(keras.layers.LSTM(8))\n",
    "model.add(keras.layers.Dense(1, activation='sigmoid'))"
   ]
  },
  {
   "cell_type": "code",
   "execution_count": 40,
   "metadata": {},
   "outputs": [
    {
     "name": "stdout",
     "output_type": "stream",
     "text": [
      "Model: \"sequential_2\"\n",
      "_________________________________________________________________\n",
      "Layer (type)                 Output Shape              Param #   \n",
      "=================================================================\n",
      "embedding_1 (Embedding)      (None, 100, 16)           8000      \n",
      "_________________________________________________________________\n",
      "lstm (LSTM)                  (None, 8)                 800       \n",
      "_________________________________________________________________\n",
      "dense_2 (Dense)              (None, 1)                 9         \n",
      "=================================================================\n",
      "Total params: 8,809\n",
      "Trainable params: 8,809\n",
      "Non-trainable params: 0\n",
      "_________________________________________________________________\n"
     ]
    }
   ],
   "source": [
    "model.summary()"
   ]
  },
  {
   "cell_type": "code",
   "execution_count": 41,
   "metadata": {},
   "outputs": [
    {
     "name": "stdout",
     "output_type": "stream",
     "text": [
      "Epoch 1/100\n",
      "313/313 [==============================] - 9s 21ms/step - loss: 0.6928 - accuracy: 0.5155 - val_loss: 0.6916 - val_accuracy: 0.5972\n",
      "Epoch 2/100\n",
      "313/313 [==============================] - 6s 18ms/step - loss: 0.6907 - accuracy: 0.5975 - val_loss: 0.6884 - val_accuracy: 0.6308\n",
      "Epoch 3/100\n",
      "313/313 [==============================] - 6s 18ms/step - loss: 0.6862 - accuracy: 0.6382 - val_loss: 0.6782 - val_accuracy: 0.6672\n",
      "Epoch 4/100\n",
      "313/313 [==============================] - 6s 18ms/step - loss: 0.6680 - accuracy: 0.6684 - val_loss: 0.6103 - val_accuracy: 0.7114\n",
      "Epoch 5/100\n",
      "313/313 [==============================] - 6s 18ms/step - loss: 0.5944 - accuracy: 0.7301 - val_loss: 0.5716 - val_accuracy: 0.7416\n",
      "Epoch 6/100\n",
      "313/313 [==============================] - 6s 18ms/step - loss: 0.5612 - accuracy: 0.7442 - val_loss: 0.5496 - val_accuracy: 0.7466\n",
      "Epoch 7/100\n",
      "313/313 [==============================] - 6s 18ms/step - loss: 0.5352 - accuracy: 0.7638 - val_loss: 0.5285 - val_accuracy: 0.7590\n",
      "Epoch 8/100\n",
      "313/313 [==============================] - 6s 20ms/step - loss: 0.5176 - accuracy: 0.7714 - val_loss: 0.5129 - val_accuracy: 0.7694\n",
      "Epoch 9/100\n",
      "313/313 [==============================] - 6s 20ms/step - loss: 0.5013 - accuracy: 0.7793 - val_loss: 0.5000 - val_accuracy: 0.7736\n",
      "Epoch 10/100\n",
      "313/313 [==============================] - 6s 21ms/step - loss: 0.4864 - accuracy: 0.7838 - val_loss: 0.4870 - val_accuracy: 0.7846\n",
      "Epoch 11/100\n",
      "313/313 [==============================] - 6s 20ms/step - loss: 0.4688 - accuracy: 0.7965 - val_loss: 0.4775 - val_accuracy: 0.7842\n",
      "Epoch 12/100\n",
      "313/313 [==============================] - 6s 20ms/step - loss: 0.4615 - accuracy: 0.7959 - val_loss: 0.4693 - val_accuracy: 0.7900\n",
      "Epoch 13/100\n",
      "313/313 [==============================] - 6s 19ms/step - loss: 0.4546 - accuracy: 0.7989 - val_loss: 0.4630 - val_accuracy: 0.7924\n",
      "Epoch 14/100\n",
      "313/313 [==============================] - 6s 19ms/step - loss: 0.4483 - accuracy: 0.8019 - val_loss: 0.4589 - val_accuracy: 0.7938\n",
      "Epoch 15/100\n",
      "313/313 [==============================] - 6s 19ms/step - loss: 0.4391 - accuracy: 0.8088 - val_loss: 0.4541 - val_accuracy: 0.7938\n",
      "Epoch 16/100\n",
      "313/313 [==============================] - 6s 18ms/step - loss: 0.4433 - accuracy: 0.8033 - val_loss: 0.4523 - val_accuracy: 0.7928\n",
      "Epoch 17/100\n",
      "313/313 [==============================] - 6s 19ms/step - loss: 0.4337 - accuracy: 0.8094 - val_loss: 0.4498 - val_accuracy: 0.7934\n",
      "Epoch 18/100\n",
      "313/313 [==============================] - 6s 19ms/step - loss: 0.4292 - accuracy: 0.8092 - val_loss: 0.4542 - val_accuracy: 0.7934\n",
      "Epoch 19/100\n",
      "313/313 [==============================] - 6s 18ms/step - loss: 0.4250 - accuracy: 0.8111 - val_loss: 0.4458 - val_accuracy: 0.7938\n",
      "Epoch 20/100\n",
      "313/313 [==============================] - 6s 18ms/step - loss: 0.4183 - accuracy: 0.8183 - val_loss: 0.4440 - val_accuracy: 0.7944\n",
      "Epoch 21/100\n",
      "313/313 [==============================] - 6s 18ms/step - loss: 0.4280 - accuracy: 0.8087 - val_loss: 0.4434 - val_accuracy: 0.7966\n",
      "Epoch 22/100\n",
      "313/313 [==============================] - 6s 18ms/step - loss: 0.4208 - accuracy: 0.8097 - val_loss: 0.4416 - val_accuracy: 0.7962\n",
      "Epoch 23/100\n",
      "313/313 [==============================] - 6s 19ms/step - loss: 0.4177 - accuracy: 0.8181 - val_loss: 0.4394 - val_accuracy: 0.7988\n",
      "Epoch 24/100\n",
      "313/313 [==============================] - 6s 19ms/step - loss: 0.4150 - accuracy: 0.8157 - val_loss: 0.4408 - val_accuracy: 0.7978\n",
      "Epoch 25/100\n",
      "313/313 [==============================] - 6s 18ms/step - loss: 0.4081 - accuracy: 0.8193 - val_loss: 0.4436 - val_accuracy: 0.7996\n",
      "Epoch 26/100\n",
      "313/313 [==============================] - 6s 18ms/step - loss: 0.4125 - accuracy: 0.8135 - val_loss: 0.4372 - val_accuracy: 0.7996\n",
      "Epoch 27/100\n",
      "313/313 [==============================] - 6s 18ms/step - loss: 0.4092 - accuracy: 0.8170 - val_loss: 0.4382 - val_accuracy: 0.7956\n",
      "Epoch 28/100\n",
      "313/313 [==============================] - 6s 19ms/step - loss: 0.4074 - accuracy: 0.8201 - val_loss: 0.4366 - val_accuracy: 0.8022\n",
      "Epoch 29/100\n",
      "313/313 [==============================] - 6s 20ms/step - loss: 0.4118 - accuracy: 0.8165 - val_loss: 0.4423 - val_accuracy: 0.8002\n",
      "Epoch 30/100\n",
      "313/313 [==============================] - 5s 17ms/step - loss: 0.4026 - accuracy: 0.8203 - val_loss: 0.4341 - val_accuracy: 0.8026\n",
      "Epoch 31/100\n",
      "313/313 [==============================] - 6s 19ms/step - loss: 0.4026 - accuracy: 0.8213 - val_loss: 0.4327 - val_accuracy: 0.8000\n",
      "Epoch 32/100\n",
      "313/313 [==============================] - 6s 18ms/step - loss: 0.4058 - accuracy: 0.8221 - val_loss: 0.4347 - val_accuracy: 0.8044\n",
      "Epoch 33/100\n",
      "313/313 [==============================] - 6s 18ms/step - loss: 0.4076 - accuracy: 0.8133 - val_loss: 0.4356 - val_accuracy: 0.8054\n",
      "Epoch 34/100\n",
      "313/313 [==============================] - 6s 19ms/step - loss: 0.4047 - accuracy: 0.8183 - val_loss: 0.4311 - val_accuracy: 0.8036\n",
      "Epoch 35/100\n",
      "313/313 [==============================] - 5s 17ms/step - loss: 0.3987 - accuracy: 0.8201 - val_loss: 0.4314 - val_accuracy: 0.8044\n",
      "Epoch 36/100\n",
      "313/313 [==============================] - 6s 18ms/step - loss: 0.3977 - accuracy: 0.8211 - val_loss: 0.4315 - val_accuracy: 0.8044\n",
      "Epoch 37/100\n",
      "313/313 [==============================] - 6s 18ms/step - loss: 0.4019 - accuracy: 0.8215 - val_loss: 0.4301 - val_accuracy: 0.8056\n",
      "Epoch 38/100\n",
      "313/313 [==============================] - 6s 19ms/step - loss: 0.4046 - accuracy: 0.8189 - val_loss: 0.4318 - val_accuracy: 0.8050\n",
      "Epoch 39/100\n",
      "313/313 [==============================] - 6s 19ms/step - loss: 0.4010 - accuracy: 0.8202 - val_loss: 0.4321 - val_accuracy: 0.8002\n",
      "Epoch 40/100\n",
      "313/313 [==============================] - 6s 19ms/step - loss: 0.3936 - accuracy: 0.8244 - val_loss: 0.4304 - val_accuracy: 0.8052\n"
     ]
    }
   ],
   "source": [
    "rmsprop = keras.optimizers.RMSprop(learning_rate=1e-4)\n",
    "model.compile(optimizer=rmsprop, loss='binary_crossentropy',\n",
    "             metrics=['accuracy'])\n",
    "checkpoint_cb = keras.callbacks.ModelCheckpoint('best-lstm-model.h5')\n",
    "early_stopping_cb = keras.callbacks.EarlyStopping(patience=3,\n",
    "                                                 restore_best_weights=True)\n",
    "history = model.fit(train_seq, train_target, epochs=100, batch_size=64,\n",
    "                   validation_data=(val_seq, val_target),\n",
    "                   callbacks=[checkpoint_cb, early_stopping_cb])"
   ]
  },
  {
   "cell_type": "code",
   "execution_count": 42,
   "metadata": {},
   "outputs": [
    {
     "data": {
      "image/png": "[encoded data removed]",
      "text/plain": [
       "<Figure size 432x288 with 1 Axes>"
      ]
     },
     "metadata": {
      "needs_background": "light"
     },
     "output_type": "display_data"
    }
   ],
   "source": [
    "import matplotlib.pyplot as plt\n",
    "plt.plot(history.history['loss'])\n",
    "plt.plot(history.history['val_loss'])\n",
    "plt.xlabel('epoch')\n",
    "plt.ylabel('loss')\n",
    "plt.legend(['train', 'val'])\n",
    "plt.show()"
   ]
  },
  {
   "cell_type": "markdown",
   "metadata": {},
   "source": [
    "## 순환층에 드롭아웃 적용하기\n",
    "\n",
    "- 순환층은 자체적으로 드롭아웃 기능 제공\n",
    "- dropout: 셀의 입력에 드롭아웃 적용\n",
    "- recurrent_dropout: 순환되는 은닉 상태에 드롭아웃 적용"
   ]
  },
  {
   "cell_type": "code",
   "execution_count": 43,
   "metadata": {},
   "outputs": [],
   "source": [
    "model2 = keras.Sequential()\n",
    "model2.add(keras.layers.Embedding(500, 16, input_length=100))\n",
    "model2.add(keras.layers.LSTM(8, dropout=0.3))\n",
    "model2.add(keras.layers.Dense(1, activation='sigmoid'))"
   ]
  },
  {
   "cell_type": "code",
   "execution_count": 45,
   "metadata": {},
   "outputs": [
    {
     "name": "stdout",
     "output_type": "stream",
     "text": [
      "Epoch 1/100\n",
      "313/313 [==============================] - 9s 22ms/step - loss: 0.6927 - accuracy: 0.5301 - val_loss: 0.6915 - val_accuracy: 0.5984\n",
      "Epoch 2/100\n",
      "313/313 [==============================] - 6s 19ms/step - loss: 0.6907 - accuracy: 0.6074 - val_loss: 0.6873 - val_accuracy: 0.6352\n",
      "Epoch 3/100\n",
      "313/313 [==============================] - 6s 18ms/step - loss: 0.6838 - accuracy: 0.6473 - val_loss: 0.6647 - val_accuracy: 0.6080\n",
      "Epoch 4/100\n",
      "313/313 [==============================] - 6s 18ms/step - loss: 0.6427 - accuracy: 0.6499 - val_loss: 0.6033 - val_accuracy: 0.7282\n",
      "Epoch 5/100\n",
      "313/313 [==============================] - 6s 19ms/step - loss: 0.5947 - accuracy: 0.7373 - val_loss: 0.5825 - val_accuracy: 0.7394\n",
      "Epoch 6/100\n",
      "313/313 [==============================] - 6s 20ms/step - loss: 0.5732 - accuracy: 0.7489 - val_loss: 0.5642 - val_accuracy: 0.7520\n",
      "Epoch 7/100\n",
      "313/313 [==============================] - 6s 19ms/step - loss: 0.5587 - accuracy: 0.7520 - val_loss: 0.5488 - val_accuracy: 0.7642\n",
      "Epoch 8/100\n",
      "313/313 [==============================] - 6s 18ms/step - loss: 0.5390 - accuracy: 0.7648 - val_loss: 0.5369 - val_accuracy: 0.7636\n",
      "Epoch 9/100\n",
      "313/313 [==============================] - 6s 19ms/step - loss: 0.5276 - accuracy: 0.7654 - val_loss: 0.5214 - val_accuracy: 0.7752\n",
      "Epoch 10/100\n",
      "313/313 [==============================] - 6s 18ms/step - loss: 0.5185 - accuracy: 0.7730 - val_loss: 0.5102 - val_accuracy: 0.7740\n",
      "Epoch 11/100\n",
      "313/313 [==============================] - 6s 19ms/step - loss: 0.5037 - accuracy: 0.7754 - val_loss: 0.4975 - val_accuracy: 0.7810\n",
      "Epoch 12/100\n",
      "313/313 [==============================] - 6s 19ms/step - loss: 0.4954 - accuracy: 0.7798 - val_loss: 0.4868 - val_accuracy: 0.7838\n",
      "Epoch 13/100\n",
      "313/313 [==============================] - 6s 18ms/step - loss: 0.4779 - accuracy: 0.7922 - val_loss: 0.4798 - val_accuracy: 0.7822\n",
      "Epoch 14/100\n",
      "313/313 [==============================] - 6s 18ms/step - loss: 0.4702 - accuracy: 0.7885 - val_loss: 0.4706 - val_accuracy: 0.7850\n",
      "Epoch 15/100\n",
      "313/313 [==============================] - 6s 18ms/step - loss: 0.4601 - accuracy: 0.7969 - val_loss: 0.4623 - val_accuracy: 0.7928\n",
      "Epoch 16/100\n",
      "313/313 [==============================] - 6s 19ms/step - loss: 0.4557 - accuracy: 0.7950 - val_loss: 0.4581 - val_accuracy: 0.7930\n",
      "Epoch 17/100\n",
      "313/313 [==============================] - 6s 19ms/step - loss: 0.4556 - accuracy: 0.7932 - val_loss: 0.4525 - val_accuracy: 0.7966\n",
      "Epoch 18/100\n",
      "313/313 [==============================] - 6s 18ms/step - loss: 0.4450 - accuracy: 0.8004 - val_loss: 0.4478 - val_accuracy: 0.7954\n",
      "Epoch 19/100\n",
      "313/313 [==============================] - 6s 19ms/step - loss: 0.4404 - accuracy: 0.8024 - val_loss: 0.4444 - val_accuracy: 0.7986\n",
      "Epoch 20/100\n",
      "313/313 [==============================] - 6s 18ms/step - loss: 0.4363 - accuracy: 0.8076 - val_loss: 0.4427 - val_accuracy: 0.7988\n",
      "Epoch 21/100\n",
      "313/313 [==============================] - 6s 19ms/step - loss: 0.4384 - accuracy: 0.7997 - val_loss: 0.4414 - val_accuracy: 0.7986\n",
      "Epoch 22/100\n",
      "313/313 [==============================] - 6s 19ms/step - loss: 0.4351 - accuracy: 0.8051 - val_loss: 0.4376 - val_accuracy: 0.8018\n",
      "Epoch 23/100\n",
      "313/313 [==============================] - 6s 18ms/step - loss: 0.4345 - accuracy: 0.8016 - val_loss: 0.4375 - val_accuracy: 0.7998\n",
      "Epoch 24/100\n",
      "313/313 [==============================] - 6s 18ms/step - loss: 0.4287 - accuracy: 0.8043 - val_loss: 0.4350 - val_accuracy: 0.8022\n",
      "Epoch 25/100\n",
      "313/313 [==============================] - 6s 19ms/step - loss: 0.4237 - accuracy: 0.8058 - val_loss: 0.4340 - val_accuracy: 0.8036\n",
      "Epoch 26/100\n",
      "313/313 [==============================] - 6s 19ms/step - loss: 0.4292 - accuracy: 0.8050 - val_loss: 0.4388 - val_accuracy: 0.7954\n",
      "Epoch 27/100\n",
      "313/313 [==============================] - 6s 19ms/step - loss: 0.4214 - accuracy: 0.8076 - val_loss: 0.4332 - val_accuracy: 0.8030\n",
      "Epoch 28/100\n",
      "313/313 [==============================] - 6s 19ms/step - loss: 0.4196 - accuracy: 0.8105 - val_loss: 0.4330 - val_accuracy: 0.8008\n",
      "Epoch 29/100\n",
      "313/313 [==============================] - 6s 18ms/step - loss: 0.4179 - accuracy: 0.8086 - val_loss: 0.4323 - val_accuracy: 0.8048\n",
      "Epoch 30/100\n",
      "313/313 [==============================] - 6s 19ms/step - loss: 0.4226 - accuracy: 0.8084 - val_loss: 0.4314 - val_accuracy: 0.8046\n",
      "Epoch 31/100\n",
      "313/313 [==============================] - 6s 18ms/step - loss: 0.4172 - accuracy: 0.8141 - val_loss: 0.4331 - val_accuracy: 0.8028\n",
      "Epoch 32/100\n",
      "313/313 [==============================] - 6s 20ms/step - loss: 0.4189 - accuracy: 0.8119 - val_loss: 0.4300 - val_accuracy: 0.8010\n",
      "Epoch 33/100\n",
      "313/313 [==============================] - 6s 19ms/step - loss: 0.4249 - accuracy: 0.8043 - val_loss: 0.4302 - val_accuracy: 0.8048\n",
      "Epoch 34/100\n",
      "313/313 [==============================] - 6s 19ms/step - loss: 0.4257 - accuracy: 0.8035 - val_loss: 0.4306 - val_accuracy: 0.8054\n",
      "Epoch 35/100\n",
      "313/313 [==============================] - 6s 19ms/step - loss: 0.4173 - accuracy: 0.8110 - val_loss: 0.4294 - val_accuracy: 0.7998\n",
      "Epoch 36/100\n",
      "313/313 [==============================] - 6s 18ms/step - loss: 0.4169 - accuracy: 0.8114 - val_loss: 0.4305 - val_accuracy: 0.8058\n",
      "Epoch 37/100\n",
      "313/313 [==============================] - 6s 19ms/step - loss: 0.4147 - accuracy: 0.8109 - val_loss: 0.4295 - val_accuracy: 0.8010\n",
      "Epoch 38/100\n",
      "313/313 [==============================] - 6s 18ms/step - loss: 0.4163 - accuracy: 0.8105 - val_loss: 0.4291 - val_accuracy: 0.7994\n",
      "Epoch 39/100\n",
      "313/313 [==============================] - 6s 18ms/step - loss: 0.4104 - accuracy: 0.8149 - val_loss: 0.4325 - val_accuracy: 0.8028\n",
      "Epoch 40/100\n",
      "313/313 [==============================] - 6s 19ms/step - loss: 0.4155 - accuracy: 0.8128 - val_loss: 0.4303 - val_accuracy: 0.7980\n",
      "Epoch 41/100\n",
      "313/313 [==============================] - 6s 18ms/step - loss: 0.4179 - accuracy: 0.8083 - val_loss: 0.4285 - val_accuracy: 0.8028\n",
      "Epoch 42/100\n",
      "313/313 [==============================] - 6s 20ms/step - loss: 0.4148 - accuracy: 0.8075 - val_loss: 0.4330 - val_accuracy: 0.8046\n",
      "Epoch 43/100\n",
      "313/313 [==============================] - 6s 19ms/step - loss: 0.4177 - accuracy: 0.8085 - val_loss: 0.4305 - val_accuracy: 0.7994\n",
      "Epoch 44/100\n",
      "313/313 [==============================] - 6s 19ms/step - loss: 0.4091 - accuracy: 0.8139 - val_loss: 0.4281 - val_accuracy: 0.8028\n",
      "Epoch 45/100\n",
      "313/313 [==============================] - 6s 19ms/step - loss: 0.4083 - accuracy: 0.8140 - val_loss: 0.4307 - val_accuracy: 0.7968\n",
      "Epoch 46/100\n",
      "313/313 [==============================] - 6s 18ms/step - loss: 0.4147 - accuracy: 0.8104 - val_loss: 0.4285 - val_accuracy: 0.8018\n",
      "Epoch 47/100\n",
      "313/313 [==============================] - 6s 20ms/step - loss: 0.4084 - accuracy: 0.8136 - val_loss: 0.4280 - val_accuracy: 0.8014\n",
      "Epoch 48/100\n",
      "313/313 [==============================] - 6s 18ms/step - loss: 0.4135 - accuracy: 0.8118 - val_loss: 0.4290 - val_accuracy: 0.7970\n",
      "Epoch 49/100\n",
      "313/313 [==============================] - 6s 18ms/step - loss: 0.4139 - accuracy: 0.8097 - val_loss: 0.4286 - val_accuracy: 0.8012\n",
      "Epoch 50/100\n",
      "313/313 [==============================] - 6s 18ms/step - loss: 0.4181 - accuracy: 0.8064 - val_loss: 0.4283 - val_accuracy: 0.8016\n"
     ]
    }
   ],
   "source": [
    "rmsprop = keras.optimizers.RMSprop(learning_rate=1e-4)\n",
    "model2.compile(optimizer=rmsprop, loss='binary_crossentropy',\n",
    "              metrics=['accuracy'])\n",
    "checkpoint_cb = keras.callbacks.ModelCheckpoint('best-dropout-model.h5')\n",
    "early_stopping_cb = keras.callbacks.EarlyStopping(patience=3,\n",
    "                                                 restore_best_weights=True)\n",
    "history = model2.fit(train_seq, train_target, epochs=100, batch_size=64,\n",
    "                    validation_data=(val_seq, val_target),\n",
    "                    callbacks=[checkpoint_cb, early_stopping_cb])"
   ]
  },
  {
   "cell_type": "code",
   "execution_count": 46,
   "metadata": {},
   "outputs": [
    {
     "data": {
      "image/png": "[encoded data removed]",
      "text/plain": [
       "<Figure size 432x288 with 1 Axes>"
      ]
     },
     "metadata": {
      "needs_background": "light"
     },
     "output_type": "display_data"
    }
   ],
   "source": [
    "plt.plot(history.history['loss'])\n",
    "plt.plot(history.history['val_loss'])\n",
    "plt.xlabel('epoch')\n",
    "plt.ylabel('loss')\n",
    "plt.legend(['train', 'val'])\n",
    "plt.show()"
   ]
  },
  {
   "cell_type": "markdown",
   "metadata": {},
   "source": [
    "## 2개의 층을 연결하기\n",
    "\n",
    "- 순환층의 은닉 상태는 샘플의 마지막 타임스텝에 대한 은닉 상태만 다음 층으로 전달"
   ]
  },
  {
   "cell_type": "code",
   "execution_count": 47,
   "metadata": {},
   "outputs": [],
   "source": [
    "model3 = keras.Sequential()\n",
    "model3.add(keras.layers.Embedding(500, 16, input_length=100))\n",
    "model3.add(keras.layers.LSTM(8, dropout=0.3, return_sequences=True))\n",
    "model3.add(keras.layers.LSTM(8, dropout=0.3))\n",
    "model3.add(keras.layers.Dense(1, activation='sigmoid'))"
   ]
  },
  {
   "cell_type": "code",
   "execution_count": 48,
   "metadata": {},
   "outputs": [
    {
     "name": "stdout",
     "output_type": "stream",
     "text": [
      "Model: \"sequential_4\"\n",
      "_________________________________________________________________\n",
      "Layer (type)                 Output Shape              Param #   \n",
      "=================================================================\n",
      "embedding_3 (Embedding)      (None, 100, 16)           8000      \n",
      "_________________________________________________________________\n",
      "lstm_2 (LSTM)                (None, 100, 8)            800       \n",
      "_________________________________________________________________\n",
      "lstm_3 (LSTM)                (None, 8)                 544       \n",
      "_________________________________________________________________\n",
      "dense_4 (Dense)              (None, 1)                 9         \n",
      "=================================================================\n",
      "Total params: 9,353\n",
      "Trainable params: 9,353\n",
      "Non-trainable params: 0\n",
      "_________________________________________________________________\n"
     ]
    }
   ],
   "source": [
    "model3.summary()"
   ]
  },
  {
   "cell_type": "code",
   "execution_count": 49,
   "metadata": {},
   "outputs": [
    {
     "name": "stdout",
     "output_type": "stream",
     "text": [
      "Epoch 1/100\n",
      "313/313 [==============================] - 16s 38ms/step - loss: 0.6930 - accuracy: 0.5080 - val_loss: 0.6924 - val_accuracy: 0.5508\n",
      "Epoch 2/100\n",
      "313/313 [==============================] - 11s 36ms/step - loss: 0.6918 - accuracy: 0.5649 - val_loss: 0.6894 - val_accuracy: 0.6096\n",
      "Epoch 3/100\n",
      "313/313 [==============================] - 11s 35ms/step - loss: 0.6864 - accuracy: 0.6341 - val_loss: 0.6707 - val_accuracy: 0.5884\n",
      "Epoch 4/100\n",
      "313/313 [==============================] - 11s 35ms/step - loss: 0.6493 - accuracy: 0.6649 - val_loss: 0.5927 - val_accuracy: 0.7264\n",
      "Epoch 5/100\n",
      "313/313 [==============================] - 11s 36ms/step - loss: 0.5831 - accuracy: 0.7210 - val_loss: 0.5527 - val_accuracy: 0.7410\n",
      "Epoch 6/100\n",
      "313/313 [==============================] - 11s 34ms/step - loss: 0.5474 - accuracy: 0.7408 - val_loss: 0.5282 - val_accuracy: 0.7520\n",
      "Epoch 7/100\n",
      "313/313 [==============================] - 11s 35ms/step - loss: 0.5280 - accuracy: 0.7519 - val_loss: 0.5085 - val_accuracy: 0.7626\n",
      "Epoch 8/100\n",
      "313/313 [==============================] - 11s 36ms/step - loss: 0.5125 - accuracy: 0.7634 - val_loss: 0.4948 - val_accuracy: 0.7714\n",
      "Epoch 9/100\n",
      "313/313 [==============================] - 11s 34ms/step - loss: 0.4838 - accuracy: 0.7870 - val_loss: 0.4845 - val_accuracy: 0.7756\n",
      "Epoch 10/100\n",
      "313/313 [==============================] - 11s 35ms/step - loss: 0.4904 - accuracy: 0.7744 - val_loss: 0.4773 - val_accuracy: 0.7810\n",
      "Epoch 11/100\n",
      "313/313 [==============================] - 11s 36ms/step - loss: 0.4716 - accuracy: 0.7876 - val_loss: 0.4716 - val_accuracy: 0.7848\n",
      "Epoch 12/100\n",
      "313/313 [==============================] - 11s 35ms/step - loss: 0.4702 - accuracy: 0.7868 - val_loss: 0.4674 - val_accuracy: 0.7840\n",
      "Epoch 13/100\n",
      "313/313 [==============================] - 11s 36ms/step - loss: 0.4623 - accuracy: 0.7914 - val_loss: 0.4659 - val_accuracy: 0.7850\n",
      "Epoch 14/100\n",
      "313/313 [==============================] - 11s 35ms/step - loss: 0.4602 - accuracy: 0.7885 - val_loss: 0.4587 - val_accuracy: 0.7906\n",
      "Epoch 15/100\n",
      "313/313 [==============================] - 11s 34ms/step - loss: 0.4512 - accuracy: 0.7927 - val_loss: 0.4588 - val_accuracy: 0.7898\n",
      "Epoch 16/100\n",
      "313/313 [==============================] - 11s 36ms/step - loss: 0.4496 - accuracy: 0.7975 - val_loss: 0.4601 - val_accuracy: 0.7884\n",
      "Epoch 17/100\n",
      "313/313 [==============================] - 11s 35ms/step - loss: 0.4443 - accuracy: 0.7979 - val_loss: 0.4528 - val_accuracy: 0.7876\n",
      "Epoch 18/100\n",
      "313/313 [==============================] - 11s 34ms/step - loss: 0.4445 - accuracy: 0.7968 - val_loss: 0.4485 - val_accuracy: 0.7922\n",
      "Epoch 19/100\n",
      "313/313 [==============================] - 11s 36ms/step - loss: 0.4365 - accuracy: 0.8031 - val_loss: 0.4468 - val_accuracy: 0.7926\n",
      "Epoch 20/100\n",
      "313/313 [==============================] - 11s 35ms/step - loss: 0.4351 - accuracy: 0.8032 - val_loss: 0.4481 - val_accuracy: 0.7964\n",
      "Epoch 21/100\n",
      "313/313 [==============================] - 11s 35ms/step - loss: 0.4417 - accuracy: 0.7997 - val_loss: 0.4440 - val_accuracy: 0.7952\n",
      "Epoch 22/100\n",
      "313/313 [==============================] - 11s 35ms/step - loss: 0.4312 - accuracy: 0.8062 - val_loss: 0.4453 - val_accuracy: 0.7952\n",
      "Epoch 23/100\n",
      "313/313 [==============================] - 11s 35ms/step - loss: 0.4350 - accuracy: 0.8047 - val_loss: 0.4420 - val_accuracy: 0.7952\n",
      "Epoch 24/100\n",
      "313/313 [==============================] - 11s 36ms/step - loss: 0.4349 - accuracy: 0.8000 - val_loss: 0.4400 - val_accuracy: 0.7960\n",
      "Epoch 25/100\n",
      "313/313 [==============================] - 11s 34ms/step - loss: 0.4285 - accuracy: 0.8049 - val_loss: 0.4398 - val_accuracy: 0.7936\n",
      "Epoch 26/100\n",
      "313/313 [==============================] - 11s 34ms/step - loss: 0.4258 - accuracy: 0.8117 - val_loss: 0.4408 - val_accuracy: 0.7970\n",
      "Epoch 27/100\n",
      "313/313 [==============================] - 11s 37ms/step - loss: 0.4347 - accuracy: 0.8032 - val_loss: 0.4397 - val_accuracy: 0.7944\n",
      "Epoch 28/100\n",
      "313/313 [==============================] - 11s 34ms/step - loss: 0.4273 - accuracy: 0.8029 - val_loss: 0.4364 - val_accuracy: 0.7974\n",
      "Epoch 29/100\n",
      "313/313 [==============================] - 11s 35ms/step - loss: 0.4264 - accuracy: 0.8030 - val_loss: 0.4364 - val_accuracy: 0.8000\n",
      "Epoch 30/100\n",
      "313/313 [==============================] - 11s 34ms/step - loss: 0.4278 - accuracy: 0.8034 - val_loss: 0.4349 - val_accuracy: 0.7990\n",
      "Epoch 31/100\n",
      "313/313 [==============================] - 11s 34ms/step - loss: 0.4221 - accuracy: 0.8082 - val_loss: 0.4348 - val_accuracy: 0.8012\n",
      "Epoch 32/100\n",
      "313/313 [==============================] - 11s 34ms/step - loss: 0.4186 - accuracy: 0.8106 - val_loss: 0.4339 - val_accuracy: 0.8018\n",
      "Epoch 33/100\n",
      "313/313 [==============================] - 11s 34ms/step - loss: 0.4256 - accuracy: 0.8083 - val_loss: 0.4335 - val_accuracy: 0.7972\n",
      "Epoch 34/100\n",
      "313/313 [==============================] - 10s 33ms/step - loss: 0.4291 - accuracy: 0.8034 - val_loss: 0.4328 - val_accuracy: 0.8008\n",
      "Epoch 35/100\n",
      "313/313 [==============================] - 11s 35ms/step - loss: 0.4283 - accuracy: 0.8062 - val_loss: 0.4377 - val_accuracy: 0.7998\n",
      "Epoch 36/100\n",
      "313/313 [==============================] - 11s 34ms/step - loss: 0.4200 - accuracy: 0.8094 - val_loss: 0.4370 - val_accuracy: 0.7992\n",
      "Epoch 37/100\n",
      "313/313 [==============================] - 11s 34ms/step - loss: 0.4246 - accuracy: 0.8051 - val_loss: 0.4312 - val_accuracy: 0.8030\n",
      "Epoch 38/100\n",
      "313/313 [==============================] - 11s 36ms/step - loss: 0.4205 - accuracy: 0.8087 - val_loss: 0.4376 - val_accuracy: 0.8008\n",
      "Epoch 39/100\n",
      "313/313 [==============================] - 11s 35ms/step - loss: 0.4142 - accuracy: 0.8139 - val_loss: 0.4312 - val_accuracy: 0.8044\n",
      "Epoch 40/100\n",
      "313/313 [==============================] - 11s 35ms/step - loss: 0.4167 - accuracy: 0.8122 - val_loss: 0.4298 - val_accuracy: 0.8042\n",
      "Epoch 41/100\n",
      "313/313 [==============================] - 11s 36ms/step - loss: 0.4149 - accuracy: 0.8104 - val_loss: 0.4288 - val_accuracy: 0.8064\n",
      "Epoch 42/100\n",
      "313/313 [==============================] - 11s 34ms/step - loss: 0.4153 - accuracy: 0.8146 - val_loss: 0.4284 - val_accuracy: 0.8042\n",
      "Epoch 43/100\n",
      "313/313 [==============================] - 11s 35ms/step - loss: 0.4124 - accuracy: 0.8138 - val_loss: 0.4284 - val_accuracy: 0.8034\n",
      "Epoch 44/100\n",
      "313/313 [==============================] - 11s 35ms/step - loss: 0.4156 - accuracy: 0.8138 - val_loss: 0.4291 - val_accuracy: 0.8064\n",
      "Epoch 45/100\n",
      "313/313 [==============================] - 11s 34ms/step - loss: 0.4191 - accuracy: 0.8107 - val_loss: 0.4281 - val_accuracy: 0.8032\n",
      "Epoch 46/100\n",
      "313/313 [==============================] - 11s 35ms/step - loss: 0.4198 - accuracy: 0.8078 - val_loss: 0.4276 - val_accuracy: 0.8042\n",
      "Epoch 47/100\n",
      "313/313 [==============================] - 11s 34ms/step - loss: 0.4211 - accuracy: 0.8112 - val_loss: 0.4275 - val_accuracy: 0.8052\n",
      "Epoch 48/100\n",
      "313/313 [==============================] - 11s 34ms/step - loss: 0.4102 - accuracy: 0.8148 - val_loss: 0.4265 - val_accuracy: 0.8068\n",
      "Epoch 49/100\n",
      "313/313 [==============================] - 11s 35ms/step - loss: 0.4082 - accuracy: 0.8126 - val_loss: 0.4357 - val_accuracy: 0.7936\n",
      "Epoch 50/100\n",
      "313/313 [==============================] - 11s 34ms/step - loss: 0.4116 - accuracy: 0.8133 - val_loss: 0.4277 - val_accuracy: 0.8062\n",
      "Epoch 51/100\n",
      "313/313 [==============================] - 11s 35ms/step - loss: 0.4108 - accuracy: 0.8170 - val_loss: 0.4268 - val_accuracy: 0.8044\n"
     ]
    }
   ],
   "source": [
    "rmsprop = keras.optimizers.RMSprop(learning_rate=1e-4)\n",
    "model3.compile(optimizer=rmsprop, loss='binary_crossentropy',\n",
    "              metrics=['accuracy'])\n",
    "checkpoint_cb = keras.callbacks.ModelCheckpoint('best-dropout-model.h5')\n",
    "early_stopping_cb = keras.callbacks.EarlyStopping(patience=3,\n",
    "                                                 restore_best_weights=True)\n",
    "history = model3.fit(train_seq, train_target, epochs=100, batch_size=64,\n",
    "                    validation_data=(val_seq, val_target),\n",
    "                    callbacks=[checkpoint_cb, early_stopping_cb])"
   ]
  },
  {
   "cell_type": "code",
   "execution_count": 50,
   "metadata": {},
   "outputs": [
    {
     "data": {
      "image/png": "[encoded data removed]",
      "text/plain": [
       "<Figure size 432x288 with 1 Axes>"
      ]
     },
     "metadata": {
      "needs_background": "light"
     },
     "output_type": "display_data"
    }
   ],
   "source": [
    "plt.plot(history.history['loss'])\n",
    "plt.plot(history.history['val_loss'])\n",
    "plt.xlabel('epoch')\n",
    "plt.ylabel('loss')\n",
    "plt.legend(['train', 'val'])\n",
    "plt.show()"
   ]
  },
  {
   "cell_type": "markdown",
   "metadata": {},
   "source": [
    "## GRU 구조\n",
    "\n",
    "- Gated Recurrent Unit\n",
    "- 은닉 상태 하나만 포함\n",
    "- 은닉 상태와 입력에 가중치를 곱하고 절편을 더하는 작은 셀이 2개 들어 있음\n",
    "- LSTM보다 가중치가 작기 때문에 계산량이 적지만 LSTM 못지않은 좋은 성능을 냄\n",
    "\n",
    "\n",
    "## GRU 신경망 훈련하기"
   ]
  },
  {
   "cell_type": "code",
   "execution_count": 52,
   "metadata": {},
   "outputs": [],
   "source": [
    "model4 = keras.Sequential()\n",
    "model4.add(keras.layers.Embedding(500, 16, input_length=100))\n",
    "model4.add(keras.layers.GRU(8))\n",
    "model4.add(keras.layers.Dense(1, activation='sigmoid'))"
   ]
  },
  {
   "cell_type": "code",
   "execution_count": 53,
   "metadata": {},
   "outputs": [
    {
     "name": "stdout",
     "output_type": "stream",
     "text": [
      "Model: \"sequential_6\"\n",
      "_________________________________________________________________\n",
      "Layer (type)                 Output Shape              Param #   \n",
      "=================================================================\n",
      "embedding_5 (Embedding)      (None, 100, 16)           8000      \n",
      "_________________________________________________________________\n",
      "gru_1 (GRU)                  (None, 8)                 624       \n",
      "_________________________________________________________________\n",
      "dense_5 (Dense)              (None, 1)                 9         \n",
      "=================================================================\n",
      "Total params: 8,633\n",
      "Trainable params: 8,633\n",
      "Non-trainable params: 0\n",
      "_________________________________________________________________\n"
     ]
    }
   ],
   "source": [
    "model4.summary()"
   ]
  },
  {
   "cell_type": "code",
   "execution_count": 54,
   "metadata": {},
   "outputs": [
    {
     "name": "stdout",
     "output_type": "stream",
     "text": [
      "Epoch 1/100\n",
      "313/313 [==============================] - 9s 22ms/step - loss: 0.6926 - accuracy: 0.5222 - val_loss: 0.6912 - val_accuracy: 0.5628\n",
      "Epoch 2/100\n",
      "313/313 [==============================] - 6s 20ms/step - loss: 0.6905 - accuracy: 0.5604 - val_loss: 0.6889 - val_accuracy: 0.5704\n",
      "Epoch 3/100\n",
      "313/313 [==============================] - 6s 20ms/step - loss: 0.6871 - accuracy: 0.5908 - val_loss: 0.6852 - val_accuracy: 0.5918\n",
      "Epoch 4/100\n",
      "313/313 [==============================] - 7s 21ms/step - loss: 0.6830 - accuracy: 0.6089 - val_loss: 0.6791 - val_accuracy: 0.6112\n",
      "Epoch 5/100\n",
      "313/313 [==============================] - 7s 21ms/step - loss: 0.6754 - accuracy: 0.6256 - val_loss: 0.6693 - val_accuracy: 0.6254\n",
      "Epoch 6/100\n",
      "313/313 [==============================] - 6s 20ms/step - loss: 0.6632 - accuracy: 0.6415 - val_loss: 0.6511 - val_accuracy: 0.6442\n",
      "Epoch 7/100\n",
      "313/313 [==============================] - 6s 20ms/step - loss: 0.6399 - accuracy: 0.6704 - val_loss: 0.6129 - val_accuracy: 0.6844\n",
      "Epoch 8/100\n",
      "313/313 [==============================] - 6s 20ms/step - loss: 0.5838 - accuracy: 0.7102 - val_loss: 0.5456 - val_accuracy: 0.7354\n",
      "Epoch 9/100\n",
      "313/313 [==============================] - 6s 21ms/step - loss: 0.5279 - accuracy: 0.7446 - val_loss: 0.5240 - val_accuracy: 0.7482\n",
      "Epoch 10/100\n",
      "313/313 [==============================] - 7s 21ms/step - loss: 0.5091 - accuracy: 0.7563 - val_loss: 0.5110 - val_accuracy: 0.7626\n",
      "Epoch 11/100\n",
      "313/313 [==============================] - 6s 20ms/step - loss: 0.4874 - accuracy: 0.7763 - val_loss: 0.4995 - val_accuracy: 0.7620\n",
      "Epoch 12/100\n",
      "313/313 [==============================] - 6s 20ms/step - loss: 0.4855 - accuracy: 0.7726 - val_loss: 0.4864 - val_accuracy: 0.7726\n",
      "Epoch 13/100\n",
      "313/313 [==============================] - 6s 20ms/step - loss: 0.4759 - accuracy: 0.7801 - val_loss: 0.4772 - val_accuracy: 0.7760\n",
      "Epoch 14/100\n",
      "313/313 [==============================] - 7s 21ms/step - loss: 0.4660 - accuracy: 0.7841 - val_loss: 0.4711 - val_accuracy: 0.7816\n",
      "Epoch 15/100\n",
      "313/313 [==============================] - 6s 20ms/step - loss: 0.4590 - accuracy: 0.7914 - val_loss: 0.4667 - val_accuracy: 0.7822\n",
      "Epoch 16/100\n",
      "313/313 [==============================] - 6s 21ms/step - loss: 0.4532 - accuracy: 0.7933 - val_loss: 0.4622 - val_accuracy: 0.7852\n",
      "Epoch 17/100\n",
      "313/313 [==============================] - 6s 20ms/step - loss: 0.4386 - accuracy: 0.8035 - val_loss: 0.4624 - val_accuracy: 0.7812\n",
      "Epoch 18/100\n",
      "313/313 [==============================] - 6s 21ms/step - loss: 0.4423 - accuracy: 0.8015 - val_loss: 0.4557 - val_accuracy: 0.7882\n",
      "Epoch 19/100\n",
      "313/313 [==============================] - 7s 21ms/step - loss: 0.4371 - accuracy: 0.8053 - val_loss: 0.4533 - val_accuracy: 0.7918\n",
      "Epoch 20/100\n",
      "313/313 [==============================] - 6s 20ms/step - loss: 0.4300 - accuracy: 0.8080 - val_loss: 0.4524 - val_accuracy: 0.7940\n",
      "Epoch 21/100\n",
      "313/313 [==============================] - 6s 20ms/step - loss: 0.4317 - accuracy: 0.8090 - val_loss: 0.4504 - val_accuracy: 0.7912\n",
      "Epoch 22/100\n",
      "313/313 [==============================] - 6s 20ms/step - loss: 0.4286 - accuracy: 0.8111 - val_loss: 0.4554 - val_accuracy: 0.7826\n",
      "Epoch 23/100\n",
      "313/313 [==============================] - 7s 21ms/step - loss: 0.4245 - accuracy: 0.8137 - val_loss: 0.4489 - val_accuracy: 0.7918\n",
      "Epoch 24/100\n",
      "313/313 [==============================] - 6s 21ms/step - loss: 0.4264 - accuracy: 0.8122 - val_loss: 0.4485 - val_accuracy: 0.7944\n",
      "Epoch 25/100\n",
      "313/313 [==============================] - 6s 20ms/step - loss: 0.4168 - accuracy: 0.8154 - val_loss: 0.4469 - val_accuracy: 0.7936\n",
      "Epoch 26/100\n",
      "313/313 [==============================] - 6s 20ms/step - loss: 0.4258 - accuracy: 0.8112 - val_loss: 0.4476 - val_accuracy: 0.7940\n",
      "Epoch 27/100\n",
      "313/313 [==============================] - 6s 20ms/step - loss: 0.4172 - accuracy: 0.8168 - val_loss: 0.4465 - val_accuracy: 0.7924\n",
      "Epoch 28/100\n",
      "313/313 [==============================] - 7s 21ms/step - loss: 0.4248 - accuracy: 0.8121 - val_loss: 0.4464 - val_accuracy: 0.7936\n",
      "Epoch 29/100\n",
      "313/313 [==============================] - 6s 20ms/step - loss: 0.4156 - accuracy: 0.8143 - val_loss: 0.4452 - val_accuracy: 0.7936\n",
      "Epoch 30/100\n",
      "313/313 [==============================] - 6s 20ms/step - loss: 0.4183 - accuracy: 0.8135 - val_loss: 0.4445 - val_accuracy: 0.7938\n",
      "Epoch 31/100\n",
      "313/313 [==============================] - 6s 20ms/step - loss: 0.4181 - accuracy: 0.8160 - val_loss: 0.4450 - val_accuracy: 0.7934\n",
      "Epoch 32/100\n",
      "313/313 [==============================] - 6s 20ms/step - loss: 0.4182 - accuracy: 0.8148 - val_loss: 0.4439 - val_accuracy: 0.7938\n",
      "Epoch 33/100\n",
      "313/313 [==============================] - 7s 22ms/step - loss: 0.4121 - accuracy: 0.8224 - val_loss: 0.4437 - val_accuracy: 0.7960\n",
      "Epoch 34/100\n",
      "313/313 [==============================] - 6s 20ms/step - loss: 0.4166 - accuracy: 0.8162 - val_loss: 0.4425 - val_accuracy: 0.7944\n",
      "Epoch 35/100\n",
      "313/313 [==============================] - 6s 20ms/step - loss: 0.4146 - accuracy: 0.8193 - val_loss: 0.4446 - val_accuracy: 0.7890\n",
      "Epoch 36/100\n",
      "313/313 [==============================] - 6s 20ms/step - loss: 0.4133 - accuracy: 0.8196 - val_loss: 0.4426 - val_accuracy: 0.7968\n",
      "Epoch 37/100\n",
      "313/313 [==============================] - 7s 21ms/step - loss: 0.4077 - accuracy: 0.8223 - val_loss: 0.4416 - val_accuracy: 0.7962\n",
      "Epoch 38/100\n",
      "313/313 [==============================] - 7s 21ms/step - loss: 0.4207 - accuracy: 0.8110 - val_loss: 0.4467 - val_accuracy: 0.7958\n",
      "Epoch 39/100\n",
      "313/313 [==============================] - 6s 20ms/step - loss: 0.4144 - accuracy: 0.8139 - val_loss: 0.4422 - val_accuracy: 0.7968\n",
      "Epoch 40/100\n",
      "313/313 [==============================] - 6s 20ms/step - loss: 0.4097 - accuracy: 0.8214 - val_loss: 0.4408 - val_accuracy: 0.7972\n",
      "Epoch 41/100\n",
      "313/313 [==============================] - 6s 20ms/step - loss: 0.4199 - accuracy: 0.8128 - val_loss: 0.4417 - val_accuracy: 0.7940\n",
      "Epoch 42/100\n",
      "313/313 [==============================] - 7s 21ms/step - loss: 0.4045 - accuracy: 0.8219 - val_loss: 0.4396 - val_accuracy: 0.7978\n",
      "Epoch 43/100\n",
      "313/313 [==============================] - 6s 21ms/step - loss: 0.4092 - accuracy: 0.8205 - val_loss: 0.4394 - val_accuracy: 0.7970\n",
      "Epoch 44/100\n",
      "313/313 [==============================] - 6s 20ms/step - loss: 0.4184 - accuracy: 0.8133 - val_loss: 0.4409 - val_accuracy: 0.7976\n",
      "Epoch 45/100\n",
      "313/313 [==============================] - 6s 20ms/step - loss: 0.4141 - accuracy: 0.8147 - val_loss: 0.4399 - val_accuracy: 0.7968\n",
      "Epoch 46/100\n",
      "313/313 [==============================] - 6s 20ms/step - loss: 0.4087 - accuracy: 0.8193 - val_loss: 0.4386 - val_accuracy: 0.7960\n",
      "Epoch 47/100\n",
      "313/313 [==============================] - 7s 21ms/step - loss: 0.4112 - accuracy: 0.8170 - val_loss: 0.4408 - val_accuracy: 0.7988\n",
      "Epoch 48/100\n",
      "313/313 [==============================] - 6s 20ms/step - loss: 0.4066 - accuracy: 0.8181 - val_loss: 0.4379 - val_accuracy: 0.7960\n",
      "Epoch 49/100\n",
      "313/313 [==============================] - 7s 21ms/step - loss: 0.4092 - accuracy: 0.8173 - val_loss: 0.4395 - val_accuracy: 0.7954\n",
      "Epoch 50/100\n",
      "313/313 [==============================] - 6s 20ms/step - loss: 0.4095 - accuracy: 0.8179 - val_loss: 0.4370 - val_accuracy: 0.7976\n",
      "Epoch 51/100\n",
      "313/313 [==============================] - 7s 21ms/step - loss: 0.4029 - accuracy: 0.8223 - val_loss: 0.4383 - val_accuracy: 0.7966\n",
      "Epoch 52/100\n",
      "313/313 [==============================] - 6s 21ms/step - loss: 0.4006 - accuracy: 0.8225 - val_loss: 0.4363 - val_accuracy: 0.7990\n",
      "Epoch 53/100\n",
      "313/313 [==============================] - 6s 20ms/step - loss: 0.4053 - accuracy: 0.8219 - val_loss: 0.4377 - val_accuracy: 0.7938\n",
      "Epoch 54/100\n",
      "313/313 [==============================] - 6s 20ms/step - loss: 0.4048 - accuracy: 0.8203 - val_loss: 0.4383 - val_accuracy: 0.7980\n",
      "Epoch 55/100\n",
      "313/313 [==============================] - 7s 22ms/step - loss: 0.3985 - accuracy: 0.8247 - val_loss: 0.4353 - val_accuracy: 0.8016\n",
      "Epoch 56/100\n",
      "313/313 [==============================] - 7s 21ms/step - loss: 0.4062 - accuracy: 0.8221 - val_loss: 0.4362 - val_accuracy: 0.7980\n",
      "Epoch 57/100\n",
      "313/313 [==============================] - 6s 20ms/step - loss: 0.4091 - accuracy: 0.8179 - val_loss: 0.4356 - val_accuracy: 0.7976\n",
      "Epoch 58/100\n",
      "313/313 [==============================] - 6s 20ms/step - loss: 0.4027 - accuracy: 0.8207 - val_loss: 0.4342 - val_accuracy: 0.8002\n",
      "Epoch 59/100\n",
      "313/313 [==============================] - 6s 20ms/step - loss: 0.4089 - accuracy: 0.8160 - val_loss: 0.4354 - val_accuracy: 0.7992\n",
      "Epoch 60/100\n",
      "313/313 [==============================] - 6s 20ms/step - loss: 0.4031 - accuracy: 0.8187 - val_loss: 0.4480 - val_accuracy: 0.7954\n",
      "Epoch 61/100\n",
      "313/313 [==============================] - 7s 21ms/step - loss: 0.4064 - accuracy: 0.8181 - val_loss: 0.4336 - val_accuracy: 0.8012\n",
      "Epoch 62/100\n",
      "313/313 [==============================] - 6s 20ms/step - loss: 0.4102 - accuracy: 0.8156 - val_loss: 0.4343 - val_accuracy: 0.8000\n",
      "Epoch 63/100\n",
      "313/313 [==============================] - 6s 20ms/step - loss: 0.4001 - accuracy: 0.8229 - val_loss: 0.4346 - val_accuracy: 0.7990\n",
      "Epoch 64/100\n",
      "313/313 [==============================] - 6s 20ms/step - loss: 0.4095 - accuracy: 0.8182 - val_loss: 0.4339 - val_accuracy: 0.8008\n"
     ]
    }
   ],
   "source": [
    "rmsprop = keras.optimizers.RMSprop(learning_rate=1e-4)\n",
    "model4.compile(optimizer=rmsprop, loss='binary_crossentropy',\n",
    "              metrics=['accuracy'])\n",
    "checkpoint_cb = keras.callbacks.ModelCheckpoint('best-gru-model.h5')\n",
    "early_stopping_cb = keras.callbacks.EarlyStopping(patience=3,\n",
    "                                                 restore_best_weights=True)\n",
    "history = model4.fit(train_seq, train_target, epochs=100, batch_size=64,\n",
    "                    validation_data=(val_seq, val_target),\n",
    "                    callbacks=[checkpoint_cb, early_stopping_cb])"
   ]
  },
  {
   "cell_type": "code",
   "execution_count": 55,
   "metadata": {},
   "outputs": [
    {
     "data": {
      "image/png": "[encoded data removed]",
      "text/plain": [
       "<Figure size 432x288 with 1 Axes>"
      ]
     },
     "metadata": {
      "needs_background": "light"
     },
     "output_type": "display_data"
    }
   ],
   "source": [
    "plt.plot(history.history['loss'])\n",
    "plt.plot(history.history['val_loss'])\n",
    "plt.xlabel('epoch')\n",
    "plt.ylabel('loss')\n",
    "plt.legend(['train', 'val'])\n",
    "plt.show()"
   ]
  }
 ],
 "metadata": {
  "kernelspec": {
   "display_name": "Python 3",
   "language": "python",
   "name": "python3"
  },
  "language_info": {
   "codemirror_mode": {
    "name": "ipython",
    "version": 3
   },
   "file_extension": ".py",
   "mimetype": "text/x-python",
   "name": "python",
   "nbconvert_exporter": "python",
   "pygments_lexer": "ipython3",
   "version": "3.8.5"
  }
 },
 "nbformat": 4,
 "nbformat_minor": 4
}
